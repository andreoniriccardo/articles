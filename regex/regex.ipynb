{
 "cells": [
  {
   "cell_type": "code",
   "execution_count": 1,
   "metadata": {},
   "outputs": [],
   "source": [
    "import re"
   ]
  },
  {
   "cell_type": "code",
   "execution_count": 9,
   "metadata": {},
   "outputs": [
    {
     "name": "stdout",
     "output_type": "stream",
     "text": [
      "['This', 'Example', 'String', 'Caps']\n"
     ]
    }
   ],
   "source": [
    "input_string = \"This is an Example String with Caps.\"\n",
    "capitalized_words = re.findall('([A-Z][a-z]*)', input_string)\n",
    "print(capitalized_words)"
   ]
  },
  {
   "cell_type": "code",
   "execution_count": 10,
   "metadata": {},
   "outputs": [
    {
     "name": "stdout",
     "output_type": "stream",
     "text": [
      "['T', 'E', 'S', 'C']\n"
     ]
    }
   ],
   "source": [
    "capitalized_words = re.findall('([A-Z])', input_string)\n",
    "print(capitalized_words)"
   ]
  },
  {
   "cell_type": "code",
   "execution_count": 16,
   "metadata": {},
   "outputs": [
    {
     "name": "stdout",
     "output_type": "stream",
     "text": [
      "user@domain.com is a valid email address.\n",
      "invalid_email is not a valid email address.\n",
      "another.invalid@email..com is not a valid email address.\n",
      "strange.butV4lid@EMAIL.org is a valid email address.\n"
     ]
    }
   ],
   "source": [
    "email_pattern = r'\\b[A-Za-z0-9._%+-]+@[A-Za-z0-9-]+\\.{1}[A-Z|a-z]{2,7}\\b'\n",
    "emails = [\"user@domain.com\", \"invalid_email\", \"another.invalid@email..com\", \"strange.butV4lid@EMAIL.org\"]\n",
    "\n",
    "for email in emails:\n",
    "    if re.match(email_pattern, email):\n",
    "        print(f\"{email} is a valid email address.\")\n",
    "    else:\n",
    "        print(f\"{email} is not a valid email address.\")\n"
   ]
  },
  {
   "cell_type": "code",
   "execution_count": 17,
   "metadata": {},
   "outputs": [
    {
     "name": "stdout",
     "output_type": "stream",
     "text": [
      "Extracted URLs:\n",
      "https://www.example.com\n",
      "http://blog.example.com\n"
     ]
    }
   ],
   "source": [
    "import re\n",
    "\n",
    "text = \"Visit our website at https://www.example.com or our blog at http://blog.example.com\"\n",
    "url_pattern = r'https?://\\S+'\n",
    "urls = re.findall(url_pattern, text)\n",
    "\n",
    "print(\"Extracted URLs:\")\n",
    "for url in urls:\n",
    "    print(url)"
   ]
  },
  {
   "cell_type": "code",
   "execution_count": 3,
   "metadata": {},
   "outputs": [
    {
     "name": "stdout",
     "output_type": "stream",
     "text": [
      "('stringers', 'sit')\n",
      "stringers sit\n",
      "***************\n"
     ]
    }
   ],
   "source": [
    "# string to be match save in a dictionary.\n",
    "listString = [\"a string stay\", \"stringers sit\",\"string dope\"]\n",
    "# loop through the dictionary and check for match\n",
    "pattern = \"(s\\w+)\\W(s\\w+)\"\n",
    "\n",
    "for string in listString:\n",
    "    match = re.match(pattern, string)\n",
    "    if match:\n",
    "        # matched groups are printed as a separate list\n",
    "        print(match.groups())\n",
    "        # matched groups are each printed as a single string\n",
    "        print(match.group())\n",
    "        print(\"***************\")"
   ]
  },
  {
   "cell_type": "code",
   "execution_count": 4,
   "metadata": {},
   "outputs": [
    {
     "name": "stdout",
     "output_type": "stream",
     "text": [
      "This line contains data.\n"
     ]
    }
   ],
   "source": [
    "header_pattern = \"Name, Surname, Age, Country\"\n",
    "actual_header = \"Name, Age, Country, Phone\"\n",
    "if re.match(header_pattern, actual_header):\n",
    "    print(\"This line contains headers.\")\n",
    "else:\n",
    "    print(\"This line contains data.\")"
   ]
  },
  {
   "cell_type": "code",
   "execution_count": 7,
   "metadata": {},
   "outputs": [
    {
     "name": "stdout",
     "output_type": "stream",
     "text": [
      "['12-05-2023', '15-05-2023', '18-05-2023']\n"
     ]
    }
   ],
   "source": [
    "data_pattern = '\\d{2}-\\d{2}-\\d{4}'\n",
    "text = \"Order Date: 12-05-2023, Ship Date: 15-05-2023, Delivery Date: 18-05-2023\"\n",
    "\n",
    "dates = re.findall(data_pattern, text)\n",
    "print(dates)"
   ]
  },
  {
   "cell_type": "code",
   "execution_count": 2,
   "metadata": {},
   "outputs": [
    {
     "name": "stdout",
     "output_type": "stream",
     "text": [
      "['This', 'is', 'the', 'sentence', 'I', 'want', 'to', 'tokenize']\n"
     ]
    }
   ],
   "source": [
    "sentence = \"This is the sentence I want to tokenize\"\n",
    "words = re.split('\\s', sentence)\n",
    "print(words)"
   ]
  },
  {
   "cell_type": "code",
   "execution_count": 5,
   "metadata": {},
   "outputs": [
    {
     "name": "stdout",
     "output_type": "stream",
     "text": [
      "['James', 'Smith', '28', 'Germany']\n"
     ]
    }
   ],
   "source": [
    "csv_line = \"James, Smith, 28, Germany\"\n",
    "csv_values = re.split(',\\s*', csv_line)\n",
    "print(csv_values)"
   ]
  },
  {
   "cell_type": "code",
   "execution_count": 11,
   "metadata": {},
   "outputs": [
    {
     "name": "stdout",
     "output_type": "stream",
     "text": [
      "Date: 05/09/2023\n"
     ]
    }
   ],
   "source": [
    "wrong_format_date = \"Date: 2023-09-05\"\n",
    "formatted_date = re.sub('(\\d{4})-(\\d{2})-(\\d{2})', r'\\3/\\2/\\1', wrong_format_date)\n",
    "\n",
    "print(formatted_date)"
   ]
  },
  {
   "cell_type": "code",
   "execution_count": null,
   "metadata": {},
   "outputs": [],
   "source": []
  }
 ],
 "metadata": {
  "kernelspec": {
   "display_name": "Python 3",
   "language": "python",
   "name": "python3"
  },
  "language_info": {
   "codemirror_mode": {
    "name": "ipython",
    "version": 3
   },
   "file_extension": ".py",
   "mimetype": "text/x-python",
   "name": "python",
   "nbconvert_exporter": "python",
   "pygments_lexer": "ipython3",
   "version": "3.11.5"
  },
  "orig_nbformat": 4
 },
 "nbformat": 4,
 "nbformat_minor": 2
}
