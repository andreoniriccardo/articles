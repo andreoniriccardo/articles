{
 "cells": [
  {
   "cell_type": "code",
   "execution_count": 6,
   "metadata": {},
   "outputs": [],
   "source": [
    "import networkx as nx\n",
    "from pyvis.network import Network\n",
    "import pandas as pd\n",
    "import numpy as np\n",
    "import matplotlib.pyplot as plt\n",
    "import seaborn as sns"
   ]
  },
  {
   "cell_type": "code",
   "execution_count": 5,
   "metadata": {},
   "outputs": [],
   "source": [
    "# Create an instance of a graph\n",
    "G = nx.Graph()\n",
    "\n",
    "# Create an edge between two nodes\n",
    "G.add_edge('A', 'B', weight=6)"
   ]
  },
  {
   "cell_type": "code",
   "execution_count": 27,
   "metadata": {},
   "outputs": [
    {
     "name": "stdout",
     "output_type": "stream",
     "text": [
      "nx.html\n"
     ]
    }
   ],
   "source": [
    "nx_graph = nx.cycle_graph(10)\n",
    "nx_graph.nodes[1]['title'] = 'Number 1'\n",
    "nx_graph.nodes[1]['group'] = 1\n",
    "nx_graph.nodes[3]['title'] = 'I belong to a different group!'\n",
    "nx_graph.nodes[3]['group'] = 10\n",
    "nx_graph.add_node(20, size=20, title='couple', group=2)\n",
    "nx_graph.add_node(21, size=15, title='couple', group=2)\n",
    "nx_graph.add_edge(20, 21, weight=5)\n",
    "nx_graph.add_node(25, size=25, label='lonely', title='lonely node', group=3)\n",
    "nt = Network()\n",
    "# populates the nodes and edges data structures\n",
    "nt.from_nx(nx_graph)\n",
    "nt.show('nx.html', notebook=False)"
   ]
  },
  {
   "cell_type": "code",
   "execution_count": null,
   "metadata": {},
   "outputs": [],
   "source": [
    "got_net = Network(height=\"750px\", width=\"100%\", bgcolor=\"#222222\", font_color=\"white\")\n",
    "\n",
    "# set the physics layout of the network\n",
    "got_net.barnes_hut()\n",
    "got_data = pd.read_csv(\"../../notebooks/NetworkOfThrones.csv\")\n",
    "\n",
    "sources = got_data['Source']\n",
    "targets = got_data['Target']\n",
    "weights = got_data['Weight']\n",
    "\n",
    "edge_data = zip(sources, targets, weights)\n",
    "\n",
    "for e in edge_data:\n",
    "                src = e[0]\n",
    "                dst = e[1]\n",
    "                w = e[2]\n",
    "\n",
    "                got_net.add_node(src, src, title=src)\n",
    "                got_net.add_node(dst, dst, title=dst)\n",
    "                got_net.add_edge(src, dst, value=w)\n",
    "\n",
    "neighbor_map = got_net.get_adj_list()\n",
    "\n",
    "# add neighbor data to node hover data\n",
    "for node in got_net.nodes:\n",
    "                node[\"title\"] += \" Neighbors:<br>\" + \"<br>\".join(neighbor_map[node[\"id\"]])\n",
    "                node[\"value\"] = len(neighbor_map[node[\"id\"]])\n",
    "\n",
    "got_net.show(\"gameofthrones.html\")"
   ]
  },
  {
   "cell_type": "code",
   "execution_count": 29,
   "metadata": {},
   "outputs": [],
   "source": [
    "data = pd.read_csv(\"facebook_combined.txt\", sep=\" \", header=None)\n",
    "data.columns = [\"person1\", \"person2\"]"
   ]
  },
  {
   "cell_type": "code",
   "execution_count": 30,
   "metadata": {},
   "outputs": [
    {
     "data": {
      "text/html": [
       "<div>\n",
       "<style scoped>\n",
       "    .dataframe tbody tr th:only-of-type {\n",
       "        vertical-align: middle;\n",
       "    }\n",
       "\n",
       "    .dataframe tbody tr th {\n",
       "        vertical-align: top;\n",
       "    }\n",
       "\n",
       "    .dataframe thead th {\n",
       "        text-align: right;\n",
       "    }\n",
       "</style>\n",
       "<table border=\"1\" class=\"dataframe\">\n",
       "  <thead>\n",
       "    <tr style=\"text-align: right;\">\n",
       "      <th></th>\n",
       "      <th>person1</th>\n",
       "      <th>person2</th>\n",
       "    </tr>\n",
       "  </thead>\n",
       "  <tbody>\n",
       "    <tr>\n",
       "      <th>74346</th>\n",
       "      <td>2839</td>\n",
       "      <td>3064</td>\n",
       "    </tr>\n",
       "    <tr>\n",
       "      <th>62630</th>\n",
       "      <td>2309</td>\n",
       "      <td>2590</td>\n",
       "    </tr>\n",
       "    <tr>\n",
       "      <th>199</th>\n",
       "      <td>0</td>\n",
       "      <td>200</td>\n",
       "    </tr>\n",
       "    <tr>\n",
       "      <th>51398</th>\n",
       "      <td>2088</td>\n",
       "      <td>2468</td>\n",
       "    </tr>\n",
       "    <tr>\n",
       "      <th>27375</th>\n",
       "      <td>1319</td>\n",
       "      <td>1568</td>\n",
       "    </tr>\n",
       "    <tr>\n",
       "      <th>37813</th>\n",
       "      <td>1741</td>\n",
       "      <td>1809</td>\n",
       "    </tr>\n",
       "    <tr>\n",
       "      <th>83696</th>\n",
       "      <td>3460</td>\n",
       "      <td>3761</td>\n",
       "    </tr>\n",
       "    <tr>\n",
       "      <th>17028</th>\n",
       "      <td>1029</td>\n",
       "      <td>1613</td>\n",
       "    </tr>\n",
       "    <tr>\n",
       "      <th>82498</th>\n",
       "      <td>3332</td>\n",
       "      <td>3355</td>\n",
       "    </tr>\n",
       "    <tr>\n",
       "      <th>2472</th>\n",
       "      <td>107</td>\n",
       "      <td>1699</td>\n",
       "    </tr>\n",
       "  </tbody>\n",
       "</table>\n",
       "</div>"
      ],
      "text/plain": [
       "       person1  person2\n",
       "74346     2839     3064\n",
       "62630     2309     2590\n",
       "199          0      200\n",
       "51398     2088     2468\n",
       "27375     1319     1568\n",
       "37813     1741     1809\n",
       "83696     3460     3761\n",
       "17028     1029     1613\n",
       "82498     3332     3355\n",
       "2472       107     1699"
      ]
     },
     "execution_count": 30,
     "metadata": {},
     "output_type": "execute_result"
    }
   ],
   "source": [
    "sample = data.sample(1000, random_state=1)\n",
    "sample.head(10)"
   ]
  },
  {
   "cell_type": "code",
   "execution_count": 33,
   "metadata": {},
   "outputs": [
    {
     "name": "stdout",
     "output_type": "stream",
     "text": [
      "nx2.html\n"
     ]
    }
   ],
   "source": [
    "net = Network(\n",
    "    notebook=True,\n",
    "    cdn_resources=\"remote\",\n",
    "    bgcolor=\"#222222\",\n",
    "    font_color=\"white\",\n",
    "    height=\"750px\",\n",
    "    width=\"100%\",\n",
    ")\n",
    "nodes = list(set([*sample.person1, *sample.person2]))\n",
    "edges = sample.values.tolist()\n",
    "net.add_nodes(nodes)\n",
    "net.add_edges(edges)\n",
    "net.show('nx2.html', notebook=False)"
   ]
  },
  {
   "cell_type": "code",
   "execution_count": 42,
   "metadata": {},
   "outputs": [
    {
     "name": "stdout",
     "output_type": "stream",
     "text": [
      "undir.html\n"
     ]
    }
   ],
   "source": [
    "G = nx.Graph()\n",
    "for i in range(30):\n",
    "    node_1 = np.random.randint(10)\n",
    "    node_2 = np.random.randint(10)\n",
    "    if node_1 != node_2:\n",
    "        G.add_edge(node_1, node_2)    \n",
    "    \n"
   ]
  },
  {
   "cell_type": "code",
   "execution_count": 49,
   "metadata": {},
   "outputs": [
    {
     "name": "stdout",
     "output_type": "stream",
     "text": [
      "undir.html\n"
     ]
    }
   ],
   "source": [
    "nt = Network()\n",
    "# populates the nodes and edges data structures\n",
    "nt.from_nx(G)\n",
    "for node in nt.nodes:\n",
    "    node['color'] = '#FFAC33'\n",
    "nt.show('undir.html', notebook=False)"
   ]
  },
  {
   "cell_type": "code",
   "execution_count": 46,
   "metadata": {},
   "outputs": [],
   "source": [
    "Gd = nx.DiGraph()\n",
    "for i in range(30):\n",
    "    node_1 = np.random.randint(10)\n",
    "    node_2 = np.random.randint(10)\n",
    "    if node_1 != node_2:\n",
    "        Gd.add_edge(node_1, node_2)    \n",
    "    "
   ]
  },
  {
   "cell_type": "code",
   "execution_count": 50,
   "metadata": {},
   "outputs": [
    {
     "name": "stdout",
     "output_type": "stream",
     "text": [
      "dir.html\n"
     ]
    }
   ],
   "source": [
    "nt = Network(directed =True)\n",
    "# populates the nodes and edges data structures\n",
    "nt.from_nx(Gd)\n",
    "for node in nt.nodes:\n",
    "    node['color'] = '#CCFF00'\n",
    "nt.show('dir.html', notebook=False)"
   ]
  },
  {
   "cell_type": "code",
   "execution_count": 38,
   "metadata": {},
   "outputs": [],
   "source": [
    "#weighted graph\n",
    "G = nx.Graph()\n",
    "\n",
    "G.add_edge(\"A\", \"B\", weight=0.6)\n",
    "G.add_edge(\"A\", \"C\", weight=0.2)\n",
    "G.add_edge(\"C\", \"D\", weight=0.1)\n",
    "G.add_edge(\"C\", \"E\", weight=0.7)\n",
    "G.add_edge(\"C\", \"F\", weight=0.9)\n",
    "G.add_edge(\"A\", \"D\", weight=0.3)"
   ]
  },
  {
   "cell_type": "code",
   "execution_count": 39,
   "metadata": {},
   "outputs": [
    {
     "data": {
      "text/plain": [
       "[{'color': '#97c2fc', 'size': 10, 'id': 'A', 'label': 'A', 'shape': 'dot'},\n",
       " {'color': '#97c2fc', 'size': 10, 'id': 'B', 'label': 'B', 'shape': 'dot'},\n",
       " {'color': '#97c2fc', 'size': 10, 'id': 'C', 'label': 'C', 'shape': 'dot'},\n",
       " {'color': '#97c2fc', 'size': 10, 'id': 'D', 'label': 'D', 'shape': 'dot'},\n",
       " {'color': '#97c2fc', 'size': 10, 'id': 'E', 'label': 'E', 'shape': 'dot'},\n",
       " {'color': '#97c2fc', 'size': 10, 'id': 'F', 'label': 'F', 'shape': 'dot'}]"
      ]
     },
     "execution_count": 39,
     "metadata": {},
     "output_type": "execute_result"
    }
   ],
   "source": [
    "nt = Network(directed =True)\n",
    "# populates the nodes and edges data structures\n",
    "nt.from_nx(G)\n",
    "nt.nodes"
   ]
  },
  {
   "cell_type": "code",
   "execution_count": 31,
   "metadata": {},
   "outputs": [
    {
     "name": "stdout",
     "output_type": "stream",
     "text": [
      "test.html\n"
     ]
    }
   ],
   "source": [
    "nt = Network(directed =True)\n",
    "# populates the nodes and edges data structures\n",
    "nt.from_nx(G)\n",
    "# for node in nt.nodes:\n",
    "    # node['color'] = '#FFAC33'\n",
    "\n",
    "for edge in nt.edges:\n",
    "    edge['width'] = 7*G[edge['from']][edge['to']]['width']\n",
    "nt.show('test.html', notebook=False)"
   ]
  },
  {
   "cell_type": "code",
   "execution_count": 16,
   "metadata": {},
   "outputs": [
    {
     "data": {
      "text/plain": [
       "[{'width': 1, 'from': 'A', 'to': 'B', 'arrows': 'to'},\n",
       " {'width': 1, 'from': 'A', 'to': 'C', 'arrows': 'to'},\n",
       " {'width': 1, 'from': 'A', 'to': 'D', 'arrows': 'to'},\n",
       " {'width': 1, 'from': 'C', 'to': 'D', 'arrows': 'to'},\n",
       " {'width': 1, 'from': 'C', 'to': 'E', 'arrows': 'to'},\n",
       " {'width': 1, 'from': 'C', 'to': 'F', 'arrows': 'to'}]"
      ]
     },
     "execution_count": 16,
     "metadata": {},
     "output_type": "execute_result"
    }
   ],
   "source": [
    "nt.edges"
   ]
  },
  {
   "cell_type": "code",
   "execution_count": 19,
   "metadata": {},
   "outputs": [
    {
     "data": {
      "text/plain": [
       "AtlasView({'B': {'weight': 0.6}, 'C': {'weight': 0.2}, 'D': {'weight': 0.3}})"
      ]
     },
     "execution_count": 19,
     "metadata": {},
     "output_type": "execute_result"
    }
   ],
   "source": [
    "G['A']"
   ]
  },
  {
   "cell_type": "code",
   "execution_count": 45,
   "metadata": {},
   "outputs": [
    {
     "name": "stdout",
     "output_type": "stream",
     "text": [
      "test.html\n"
     ]
    }
   ],
   "source": [
    "# PAgerank\n",
    "G = nx.barabasi_albert_graph(25,4, seed=42)\n",
    "\n",
    "nt = Network()\n",
    "nt.from_nx(G)\n",
    "i=0\n",
    "for node in nt.nodes:\n",
    "    node['label'] = str(i)\n",
    "    i+=1\n",
    "nt.show('test.html', notebook=False)"
   ]
  },
  {
   "cell_type": "code",
   "execution_count": 44,
   "metadata": {},
   "outputs": [
    {
     "data": {
      "text/plain": [
       "NodeDataView({0: {}, 1: {}, 2: {}, 3: {}, 4: {}, 5: {}, 6: {}, 7: {}, 8: {}, 9: {}, 10: {}, 11: {}, 12: {}, 13: {}, 14: {}, 15: {}, 16: {}, 17: {}, 18: {}, 19: {}, 20: {}, 21: {}, 22: {}, 23: {}, 24: {}})"
      ]
     },
     "execution_count": 44,
     "metadata": {},
     "output_type": "execute_result"
    }
   ],
   "source": [
    "G = nx.barabasi_albert_graph(25,4, seed=42)\n",
    "G.nodes(data=True)"
   ]
  },
  {
   "cell_type": "code",
   "execution_count": 15,
   "metadata": {},
   "outputs": [],
   "source": [
    "G = nx.barabasi_albert_graph(25,4, seed=42)\n",
    "pagerank_results = nx.pagerank(G, alpha=0.85, max_iter=100, tol=1e-06)\n",
    "pagerank_results = pd.Series(pagerank_results).sort_values(ascending=False)\n"
   ]
  },
  {
   "cell_type": "code",
   "execution_count": 23,
   "metadata": {},
   "outputs": [
    {
     "data": {
      "text/plain": [
       "0     0.082874\n",
       "7     0.072692\n",
       "6     0.072244\n",
       "5     0.067810\n",
       "9     0.058774\n",
       "8     0.051333\n",
       "3     0.050524\n",
       "16    0.036847\n",
       "12    0.036644\n",
       "18    0.036205\n",
       "dtype: float64"
      ]
     },
     "execution_count": 23,
     "metadata": {},
     "output_type": "execute_result"
    }
   ],
   "source": [
    "data = pagerank_results.iloc[:10]\n",
    "data"
   ]
  },
  {
   "cell_type": "code",
   "execution_count": null,
   "metadata": {},
   "outputs": [],
   "source": []
  },
  {
   "cell_type": "code",
   "execution_count": 27,
   "metadata": {},
   "outputs": [
    {
     "data": {
      "image/png": "[encoded data removed]",
      "text/plain": [
       "<Figure size 432x288 with 1 Axes>"
      ]
     },
     "metadata": {
      "needs_background": "light"
     },
     "output_type": "display_data"
    }
   ],
   "source": [
    "fig, ax = plt.subplots()\n",
    "sns.barplot(x=pagerank_results.iloc[:10].values, y=pagerank_results.iloc[:10].index.astype(str), orient='h', alpha=0.75)\n",
    "ax.set_xlabel('PageRank Score')\n",
    "ax.set_ylabel('Node')\n",
    "ax.spines['top'].set_visible(False)\n",
    "ax.spines['bottom'].set_visible(False)\n",
    "ax.spines['right'].set_visible(False)\n",
    "ax.spines['left'].set_visible(False)\n",
    "for i in ax.containers:\n",
    "    ax.bar_label(i,fmt='%.2f')\n",
    "plt.savefig('page-rank.png')"
   ]
  },
  {
   "cell_type": "code",
   "execution_count": 19,
   "metadata": {},
   "outputs": [
    {
     "data": {
      "text/plain": [
       "0     0.082874\n",
       "7     0.072692\n",
       "6     0.072244\n",
       "5     0.067810\n",
       "9     0.058774\n",
       "8     0.051333\n",
       "3     0.050524\n",
       "16    0.036847\n",
       "12    0.036644\n",
       "18    0.036205\n",
       "dtype: float64"
      ]
     },
     "execution_count": 19,
     "metadata": {},
     "output_type": "execute_result"
    }
   ],
   "source": [
    "data"
   ]
  },
  {
   "cell_type": "code",
   "execution_count": 85,
   "metadata": {},
   "outputs": [],
   "source": [
    "G = nx.barabasi_albert_graph(25,4, seed=42)\n",
    "G_dir = G.to_directed()\n",
    "hits_results = nx.hits(G, max_iter=100, tol=1e-06)\n",
    "authority_results = pd.Series(hits_results[0])#.sort_values(ascending=False)\n",
    "hubs_results = pd.Series(hits_results[1])#.sort_values(ascending=False)"
   ]
  },
  {
   "cell_type": "code",
   "execution_count": 86,
   "metadata": {},
   "outputs": [],
   "source": [
    "for a, b in list(G.edges()):\n",
    "    G_dir.remove_edge(a, b)"
   ]
  },
  {
   "cell_type": "code",
   "execution_count": 87,
   "metadata": {},
   "outputs": [],
   "source": [
    "hits_results = nx.hits(G_dir, max_iter=100, tol=1e-06)\n",
    "authority_results = pd.Series(hits_results[1]).sort_values(ascending=False)\n",
    "hubs_results = pd.Series(hits_results[0]).sort_values(ascending=False)"
   ]
  },
  {
   "cell_type": "code",
   "execution_count": 88,
   "metadata": {},
   "outputs": [
    {
     "data": {
      "image/png": "[encoded data removed]",
      "text/plain": [
       "<Figure size 1152x576 with 2 Axes>"
      ]
     },
     "metadata": {
      "needs_background": "light"
     },
     "output_type": "display_data"
    }
   ],
   "source": [
    "fig, (ax1, ax2) = plt.subplots(nrows=1, ncols=2)\n",
    "fig.set_figheight(8)\n",
    "fig.set_figwidth(16)\n",
    "sns.barplot(x=authority_results.iloc[:10].values, y=authority_results.iloc[:10].index.astype(str), orient='h', alpha=0.75, ax=ax1)\n",
    "ax1.set_xlabel('Authority Score')\n",
    "ax1.set_ylabel('Node')\n",
    "ax1.spines['top'].set_visible(False)\n",
    "ax1.spines['bottom'].set_visible(False)\n",
    "ax1.spines['right'].set_visible(False)\n",
    "ax1.spines['left'].set_visible(False)\n",
    "for i in ax1.containers:\n",
    "    ax1.bar_label(i,fmt='%.2f')\n",
    "\n",
    "\n",
    "sns.barplot(x=hubs_results.iloc[:10].values, y=hubs_results.iloc[:10].index.astype(str), orient='h', alpha=0.75, ax=ax2)\n",
    "ax2.set_xlabel('Hub Score')\n",
    "ax2.set_ylabel('Node')\n",
    "ax2.spines['top'].set_visible(False)\n",
    "ax2.spines['bottom'].set_visible(False)\n",
    "ax2.spines['right'].set_visible(False)\n",
    "ax2.spines['left'].set_visible(False)\n",
    "for i in ax2.containers:\n",
    "    ax2.bar_label(i,fmt='%.2f')\n",
    "\n",
    "plt.savefig('hits.png')"
   ]
  },
  {
   "cell_type": "code",
   "execution_count": null,
   "metadata": {},
   "outputs": [],
   "source": []
  }
 ],
 "metadata": {
  "kernelspec": {
   "display_name": "Python 3",
   "language": "python",
   "name": "python3"
  },
  "language_info": {
   "codemirror_mode": {
    "name": "ipython",
    "version": 3
   },
   "file_extension": ".py",
   "mimetype": "text/x-python",
   "name": "python",
   "nbconvert_exporter": "python",
   "pygments_lexer": "ipython3",
   "version": "3.9.12"
  },
  "orig_nbformat": 4
 },
 "nbformat": 4,
 "nbformat_minor": 2
}
